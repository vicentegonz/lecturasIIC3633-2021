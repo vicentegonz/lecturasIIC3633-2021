{
  "nbformat": 4,
  "nbformat_minor": 0,
  "metadata": {
    "colab": {
      "name": "pyRecLab_SlopeOne.ipynb",
      "provenance": [],
      "toc_visible": true
    },
    "kernelspec": {
      "display_name": "Python 3",
      "language": "python",
      "name": "python3"
    },
    "language_info": {
      "codemirror_mode": {
        "name": "ipython",
        "version": 3
      },
      "file_extension": ".py",
      "mimetype": "text/x-python",
      "name": "python",
      "nbconvert_exporter": "python",
      "pygments_lexer": "ipython3",
      "version": "3.6.0"
    },
    "toc": {
      "base_numbering": 1,
      "nav_menu": {},
      "number_sections": true,
      "sideBar": true,
      "skip_h1_title": false,
      "title_cell": "Table of Contents",
      "title_sidebar": "Contents",
      "toc_cell": false,
      "toc_position": {},
      "toc_section_display": true,
      "toc_window_display": false
    }
  },
  "cells": [
    {
      "cell_type": "markdown",
      "metadata": {
        "id": "view-in-youtube"
      },
      "source": [
        "<a href=\"https://youtu.be/A2euuevpYis\" target=\"_parent\"><img src=\"https://upload.wikimedia.org/wikipedia/commons/thumb/0/09/YouTube_full-color_icon_%282017%29.svg/71px-YouTube_full-color_icon_%282017%29.svg.png\" alt=\"Open In Colab\"/></a>\n"
      ]
    },
    {
      "cell_type": "markdown",
      "metadata": {
        "id": "0kY7Xfgi84HC"
      },
      "source": [
        "# **Práctico Sistemas Recomendadores: pyreclab - Slope One**\n",
        "\n",
        "En este práctico seguiremos utilizando [pyreclab](https://github.com/gasevi/pyreclab), con el cual estamos aprendiendo distintas técnicas de recomendación. Seguiremos usando la misma base de datos de los prácticos anteriores, para que puedan comparar los métodos y sus implementaciones. Este práctico está acompañado de un [video comentando la actividad](https://youtu.be/A2euuevpYis).\n",
        "\n",
        "En esta oportunidad exploraremos el recomendador de Pendiente Uno o **Slope One** [1].\n",
        "\n",
        "**Adaptado y preparado por:** Francisca Cattan 📩 fpcattan@uc.cl\n",
        "\n",
        "Referencias 📖\n",
        "------\n",
        "[1] *Lemire, D., & Maclachlan, A. (2005, April). Slope One Predictors for Online Rating-Based Collaborative Filtering. In SDM (Vol. 5, pp. 1-5).*\n"
      ]
    },
    {
      "cell_type": "markdown",
      "metadata": {
        "id": "1s6Ac_Kh9qiH"
      },
      "source": [
        "**Nombre**:  completa tu nombre aquí :D"
      ]
    },
    {
      "cell_type": "markdown",
      "metadata": {
        "id": "Z4Jr74pP-4gt"
      },
      "source": [
        "## Actividad 1 👓\n",
        "\n",
        "Antes de empezar con el práctico, responde la siguiente pregunta con lo visto en clases.\n",
        "\n",
        "**Pregunta:** Explique cómo funciona Slope One (como modelo teórico, no piense en la implementación). En particular explique:\n",
        "\n",
        "- Repasemos: ¿Por qué este recomendador es un algoritmo de Filtrado Colaborativo?\n",
        "- Este Filtrado Colaborativo, ¿está basado en el usuario o en los items? ¿Por qué?\n",
        "- ¿Qué datos recibe Slope One y qué hace con ellos? (qué tipo de columnas y qué calculo)\n",
        "- ¿Qué pasaría si se agrega un nuevo rating a la base de datos?\n",
        "- Opcional: ¿Cómo crees que le iría al recomendador con un usuario que acaba de entrar al sistema y ha asignado muy pocos ratings?\n",
        "\n",
        "💡 *Hint: La bibliografía todo lo puede.*\n",
        "\n",
        "**Respuesta:**\n",
        "\n",
        "- Es de filtrado colaborativo ya que mediante los ratings de otros usuarios a un item especifico, es capas de predecir el rating que dara un usuario que aun no a evaluado aquel item especifico.\n",
        "\n",
        "-  Esta basado en items ya que compara directamente similitudes entre items para predecir uno nuevo.\n",
        "\n",
        "- Recibe todos los ratings en comun con otros usuarios que hayan revisado la pelicula/serie a predecir, por item al que yo le haga echo un review, luego calcula por cada item que haya revisado el diferencial con la pelicula a predecir y lo pondera por los usuarios utilizados, se suman todos los diferenciales y se divide por la cantidad de usuarios utilizados.\n",
        "\n",
        "- Dependiendo de la cantidad de ratings iniciales puede ser un cambio marginal pero en teoria el numero a predecir cambia si el item al cual se le agrego el rating yo lo tengo evaluado ya que ahora seria necesario considerarlo para la prediccion.\n",
        "\n",
        "- Mientras menos ratings tenga el usuario sera menos la cantidad de items en comun que existan con otros usuarios por lo que la prediccion no sera representativa al no tener suficientes comparaciones de items.\n",
        "\n",
        "\n"
      ]
    },
    {
      "cell_type": "markdown",
      "metadata": {
        "id": "HaFY1qNzHyCD"
      },
      "source": [
        "# **Configuración Inicial**"
      ]
    },
    {
      "cell_type": "markdown",
      "metadata": {
        "id": "MvGNsjiIIC6G"
      },
      "source": [
        "## Paso 1:\n",
        "Descargue directamente a Colab los archivos del dataset ejecutando las siguientes 3 celdas:\n"
      ]
    },
    {
      "cell_type": "code",
      "metadata": {
        "colab": {
          "base_uri": "https://localhost:8080/"
        },
        "id": "_7M_ehHq8ti2",
        "outputId": "9a677c10-1c3b-4a4e-f8e3-59be98c06e8d"
      },
      "source": [
        "!curl -L -o \"u1.base\" \"https://drive.google.com/uc?export=download&id=1bGweNw7NbOHoJz11v6ld7ymLR8MLvBsA\""
      ],
      "execution_count": 1,
      "outputs": [
        {
          "output_type": "stream",
          "text": [
            "  % Total    % Received % Xferd  Average Speed   Time    Time     Time  Current\n",
            "                                 Dload  Upload   Total   Spent    Left  Speed\n",
            "100   388    0   388    0     0    338      0 --:--:--  0:00:01 --:--:--   338\n",
            "100 1546k  100 1546k    0     0   942k      0  0:00:01  0:00:01 --:--:--  942k\n"
          ],
          "name": "stdout"
        }
      ]
    },
    {
      "cell_type": "code",
      "metadata": {
        "colab": {
          "base_uri": "https://localhost:8080/"
        },
        "id": "CSdhurW1InVW",
        "outputId": "855a75f9-44a5-4a13-c0d6-c2f3b2d3528b"
      },
      "source": [
        "!curl -L -o \"u1.test\" \"https://drive.google.com/uc?export=download&id=1f_HwJWC_1HFzgAjKAWKwkuxgjkhkXrVg\""
      ],
      "execution_count": 2,
      "outputs": [
        {
          "output_type": "stream",
          "text": [
            "  % Total    % Received % Xferd  Average Speed   Time    Time     Time  Current\n",
            "                                 Dload  Upload   Total   Spent    Left  Speed\n",
            "100   388    0   388    0     0    466      0 --:--:-- --:--:-- --:--:--   466\n",
            "100  385k  100  385k    0     0   300k      0  0:00:01  0:00:01 --:--:--  188M\n"
          ],
          "name": "stdout"
        }
      ]
    },
    {
      "cell_type": "code",
      "metadata": {
        "colab": {
          "base_uri": "https://localhost:8080/"
        },
        "id": "QoGzmPG2InzM",
        "outputId": "b4624d97-052c-4aca-ceec-88afe0a0405c"
      },
      "source": [
        "!curl -L -o \"u.item\" \"https://drive.google.com/uc?export=download&id=10YLhxkO2-M_flQtyo9OYV4nT9IvSESuz\""
      ],
      "execution_count": 3,
      "outputs": [
        {
          "output_type": "stream",
          "text": [
            "  % Total    % Received % Xferd  Average Speed   Time    Time     Time  Current\n",
            "                                 Dload  Upload   Total   Spent    Left  Speed\n",
            "100   388    0   388    0     0    609      0 --:--:-- --:--:-- --:--:--   609\n",
            "100  230k  100  230k    0     0   230k      0  0:00:01  0:00:01 --:--:--  225M\n"
          ],
          "name": "stdout"
        }
      ]
    },
    {
      "cell_type": "markdown",
      "metadata": {
        "id": "kluVF2eJIyjq"
      },
      "source": [
        "Los archivos **u1.base** y **u1.test** tienen tuplas {usuario, item, rating, timestamp}, que es la información de preferencias de usuarios sobre películas en una muestra del dataset [movielens](https://grouplens.org/datasets/movielens/)."
      ]
    },
    {
      "cell_type": "markdown",
      "metadata": {
        "id": "uopKG59rJWM9"
      },
      "source": [
        "## Paso 2:\n",
        "\n",
        "Instalamos pyreclab utilizando pip."
      ]
    },
    {
      "cell_type": "code",
      "metadata": {
        "colab": {
          "base_uri": "https://localhost:8080/"
        },
        "id": "hi9L5FZdJWfI",
        "outputId": "62e1e89a-f63a-4f70-98e7-5b2ac74e9443"
      },
      "source": [
        "!pip install pyreclab --upgrade"
      ],
      "execution_count": 4,
      "outputs": [
        {
          "output_type": "stream",
          "text": [
            "Collecting pyreclab\n",
            "  Downloading pyreclab-0.1.15-cp37-cp37m-manylinux2010_x86_64.whl (234 kB)\n",
            "\u001b[?25l\r\u001b[K     |█▍                              | 10 kB 23.9 MB/s eta 0:00:01\r\u001b[K     |██▉                             | 20 kB 9.5 MB/s eta 0:00:01\r\u001b[K     |████▏                           | 30 kB 7.6 MB/s eta 0:00:01\r\u001b[K     |█████▋                          | 40 kB 7.4 MB/s eta 0:00:01\r\u001b[K     |███████                         | 51 kB 4.1 MB/s eta 0:00:01\r\u001b[K     |████████▍                       | 61 kB 4.3 MB/s eta 0:00:01\r\u001b[K     |█████████▊                      | 71 kB 4.3 MB/s eta 0:00:01\r\u001b[K     |███████████▏                    | 81 kB 4.8 MB/s eta 0:00:01\r\u001b[K     |████████████▋                   | 92 kB 5.0 MB/s eta 0:00:01\r\u001b[K     |██████████████                  | 102 kB 4.0 MB/s eta 0:00:01\r\u001b[K     |███████████████▍                | 112 kB 4.0 MB/s eta 0:00:01\r\u001b[K     |████████████████▊               | 122 kB 4.0 MB/s eta 0:00:01\r\u001b[K     |██████████████████▏             | 133 kB 4.0 MB/s eta 0:00:01\r\u001b[K     |███████████████████▌            | 143 kB 4.0 MB/s eta 0:00:01\r\u001b[K     |█████████████████████           | 153 kB 4.0 MB/s eta 0:00:01\r\u001b[K     |██████████████████████▍         | 163 kB 4.0 MB/s eta 0:00:01\r\u001b[K     |███████████████████████▊        | 174 kB 4.0 MB/s eta 0:00:01\r\u001b[K     |█████████████████████████▏      | 184 kB 4.0 MB/s eta 0:00:01\r\u001b[K     |██████████████████████████▌     | 194 kB 4.0 MB/s eta 0:00:01\r\u001b[K     |████████████████████████████    | 204 kB 4.0 MB/s eta 0:00:01\r\u001b[K     |█████████████████████████████▎  | 215 kB 4.0 MB/s eta 0:00:01\r\u001b[K     |██████████████████████████████▊ | 225 kB 4.0 MB/s eta 0:00:01\r\u001b[K     |████████████████████████████████| 234 kB 4.0 MB/s \n",
            "\u001b[?25hInstalling collected packages: pyreclab\n",
            "Successfully installed pyreclab-0.1.15\n"
          ],
          "name": "stdout"
        }
      ]
    },
    {
      "cell_type": "markdown",
      "metadata": {
        "id": "M28DoBHtN5qD"
      },
      "source": [
        "## Paso 3:\n",
        "\n",
        "Hacemos los imports necesarios para este práctico."
      ]
    },
    {
      "cell_type": "code",
      "metadata": {
        "id": "KQ0jQ_JcN3el"
      },
      "source": [
        "import pyreclab\n",
        "import numpy as np\n",
        "import pandas as pd"
      ],
      "execution_count": 5,
      "outputs": []
    },
    {
      "cell_type": "markdown",
      "metadata": {
        "id": "bmxNQtXvfJy3"
      },
      "source": [
        "# **El dataset**\n",
        "\n",
        "💡 *En prácticos anteriores, vimos como analizar este dataset. Puedes revisarlos en caso de dudas.*"
      ]
    },
    {
      "cell_type": "markdown",
      "metadata": {
        "id": "nAdXLT7haQe1"
      },
      "source": [
        "## Paso 4:\n",
        "\n",
        "Ya que queremos crear una lista de recomendación de items para un usuario en especifico, necesitamos obtener información adicional de cada película tal como título, fecha de lanzamiento, género, etc. Cargaremos el archivo de items descargado \"u.item\" para poder mapear cada identificador de ítem al conjunto de datos que lo describe."
      ]
    },
    {
      "cell_type": "code",
      "metadata": {
        "id": "p0vHiGJheUkB"
      },
      "source": [
        "# Definimos el orden de las columnas\n",
        "info_cols = [ 'movieid', 'title', 'release_date', 'video_release_date', 'IMDb_URL', \\\n",
        "              'unknown', 'Action', 'Adventure', 'Animation', 'Children', 'Comedy', \\\n",
        "              'Crime', 'Documentary', 'Drama', 'Fantasy', 'Film-Noir', 'Horror', \\\n",
        "              'Musical', 'Mystery', 'Romance', 'Sci-Fi', 'Thriller', 'War', 'Western' ]\n",
        "\n",
        "# Asignamos a una variable la estructura de datos de los items\n",
        "info_file = pd.read_csv('u.item', sep='|', index_col = 0, names = info_cols, header=None, encoding='latin-1')"
      ],
      "execution_count": 6,
      "outputs": []
    },
    {
      "cell_type": "markdown",
      "metadata": {
        "id": "z4pjNDlMOOdo"
      },
      "source": [
        "# **Slope One**"
      ]
    },
    {
      "cell_type": "markdown",
      "metadata": {
        "id": "H5sx7xkfQE6W"
      },
      "source": [
        "## Paso 5:\n",
        "\n",
        "Seguiremos un camino muy similar a los ejercicios de User KNN e Item KNN. Crearemos una instancia del algoritmo de recomendación y luego pasaremos a la fase de entrenamiento."
      ]
    },
    {
      "cell_type": "code",
      "metadata": {
        "id": "v3D7CAoyPfko"
      },
      "source": [
        "# Declaramos la instancia SlopeOne\n",
        "mySlopeOne = pyreclab.SlopeOne(dataset='u1.base', dlmchar=b'\\t', header=False, usercol=0, itemcol=1, ratingcol=2)"
      ],
      "execution_count": 7,
      "outputs": []
    },
    {
      "cell_type": "code",
      "metadata": {
        "id": "EhacKomkTs51"
      },
      "source": [
        "# Y enntrenamos\n",
        "mySlopeOne.train()"
      ],
      "execution_count": 8,
      "outputs": []
    },
    {
      "cell_type": "markdown",
      "metadata": {
        "id": "Wnb3DkVVTttZ"
      },
      "source": [
        "## Actividad 2 👓\n",
        "\n",
        "**Pregunta:** Explique qué hace el método `train()` en este caso, dado el modelo teórico. ¿Calcula información?, ¿no hace nada?, ¿ordena los datos? \n",
        "\n",
        "**Respuesta:** Calcula los diferenciales entre los usuarios para luego poder hacer las predicciones"
      ]
    },
    {
      "cell_type": "markdown",
      "metadata": {
        "id": "XqR8bZB2VboJ"
      },
      "source": [
        "## Paso 6:\n",
        "\n",
        "Llego la hora de predecir el rating."
      ]
    },
    {
      "cell_type": "code",
      "metadata": {
        "colab": {
          "base_uri": "https://localhost:8080/"
        },
        "id": "H9yigNx9VYZ3",
        "outputId": "80bb2b15-7859-44ea-8a22-feb35a59b153"
      },
      "source": [
        "# Esta es la predicción de rating que el usuario ID:457 otorgaría al ítem ID:37\n",
        "# De esta forma podemos comparar el resultado con los prácticos anteriores\n",
        "mySlopeOne.predict(\"457\", \"37\")"
      ],
      "execution_count": 9,
      "outputs": [
        {
          "output_type": "execute_result",
          "data": {
            "text/plain": [
              "3.2408759593963623"
            ]
          },
          "metadata": {},
          "execution_count": 9
        }
      ]
    },
    {
      "cell_type": "code",
      "metadata": {
        "id": "-0ShLi6gYhh_"
      },
      "source": [
        "# También podemos guardar la predicción en una variable\n",
        "prediction = mySlopeOne.predict(\"457\", \"37\")"
      ],
      "execution_count": 10,
      "outputs": []
    },
    {
      "cell_type": "code",
      "metadata": {
        "colab": {
          "base_uri": "https://localhost:8080/",
          "height": 419
        },
        "id": "2yFtdiVcUcKW",
        "outputId": "7e75963d-3a16-4ca2-db3a-0e25b6c6a9eb"
      },
      "source": [
        "# Podemos comprobar las peliculas rankeadas por el usuario ID:457\n",
        "# Que ciertamente ha participado activamente (¡156 items!)\n",
        "train_file = pd.read_csv('u1.base', sep='\\t', names = ['userid', 'itemid', 'rating', 'timestamp'], header=None)\n",
        "train_file[train_file['userid'] == 457]"
      ],
      "execution_count": 26,
      "outputs": [
        {
          "output_type": "execute_result",
          "data": {
            "text/html": [
              "<div>\n",
              "<style scoped>\n",
              "    .dataframe tbody tr th:only-of-type {\n",
              "        vertical-align: middle;\n",
              "    }\n",
              "\n",
              "    .dataframe tbody tr th {\n",
              "        vertical-align: top;\n",
              "    }\n",
              "\n",
              "    .dataframe thead th {\n",
              "        text-align: right;\n",
              "    }\n",
              "</style>\n",
              "<table border=\"1\" class=\"dataframe\">\n",
              "  <thead>\n",
              "    <tr style=\"text-align: right;\">\n",
              "      <th></th>\n",
              "      <th>userid</th>\n",
              "      <th>itemid</th>\n",
              "      <th>rating</th>\n",
              "      <th>timestamp</th>\n",
              "    </tr>\n",
              "  </thead>\n",
              "  <tbody>\n",
              "    <tr>\n",
              "      <th>37269</th>\n",
              "      <td>457</td>\n",
              "      <td>1</td>\n",
              "      <td>4</td>\n",
              "      <td>882393244</td>\n",
              "    </tr>\n",
              "    <tr>\n",
              "      <th>37270</th>\n",
              "      <td>457</td>\n",
              "      <td>7</td>\n",
              "      <td>4</td>\n",
              "      <td>882393278</td>\n",
              "    </tr>\n",
              "    <tr>\n",
              "      <th>37271</th>\n",
              "      <td>457</td>\n",
              "      <td>9</td>\n",
              "      <td>5</td>\n",
              "      <td>882393485</td>\n",
              "    </tr>\n",
              "    <tr>\n",
              "      <th>37272</th>\n",
              "      <td>457</td>\n",
              "      <td>11</td>\n",
              "      <td>4</td>\n",
              "      <td>882397020</td>\n",
              "    </tr>\n",
              "    <tr>\n",
              "      <th>37273</th>\n",
              "      <td>457</td>\n",
              "      <td>13</td>\n",
              "      <td>3</td>\n",
              "      <td>882393883</td>\n",
              "    </tr>\n",
              "    <tr>\n",
              "      <th>...</th>\n",
              "      <td>...</td>\n",
              "      <td>...</td>\n",
              "      <td>...</td>\n",
              "      <td>...</td>\n",
              "    </tr>\n",
              "    <tr>\n",
              "      <th>37420</th>\n",
              "      <td>457</td>\n",
              "      <td>1047</td>\n",
              "      <td>2</td>\n",
              "      <td>882395964</td>\n",
              "    </tr>\n",
              "    <tr>\n",
              "      <th>37421</th>\n",
              "      <td>457</td>\n",
              "      <td>1119</td>\n",
              "      <td>4</td>\n",
              "      <td>882398308</td>\n",
              "    </tr>\n",
              "    <tr>\n",
              "      <th>37422</th>\n",
              "      <td>457</td>\n",
              "      <td>1168</td>\n",
              "      <td>5</td>\n",
              "      <td>882548761</td>\n",
              "    </tr>\n",
              "    <tr>\n",
              "      <th>37423</th>\n",
              "      <td>457</td>\n",
              "      <td>1210</td>\n",
              "      <td>4</td>\n",
              "      <td>882549905</td>\n",
              "    </tr>\n",
              "    <tr>\n",
              "      <th>37424</th>\n",
              "      <td>457</td>\n",
              "      <td>1221</td>\n",
              "      <td>4</td>\n",
              "      <td>882549438</td>\n",
              "    </tr>\n",
              "  </tbody>\n",
              "</table>\n",
              "<p>156 rows × 4 columns</p>\n",
              "</div>"
            ],
            "text/plain": [
              "       userid  itemid  rating  timestamp\n",
              "37269     457       1       4  882393244\n",
              "37270     457       7       4  882393278\n",
              "37271     457       9       5  882393485\n",
              "37272     457      11       4  882397020\n",
              "37273     457      13       3  882393883\n",
              "...       ...     ...     ...        ...\n",
              "37420     457    1047       2  882395964\n",
              "37421     457    1119       4  882398308\n",
              "37422     457    1168       5  882548761\n",
              "37423     457    1210       4  882549905\n",
              "37424     457    1221       4  882549438\n",
              "\n",
              "[156 rows x 4 columns]"
            ]
          },
          "metadata": {},
          "execution_count": 26
        }
      ]
    },
    {
      "cell_type": "code",
      "metadata": {
        "colab": {
          "base_uri": "https://localhost:8080/",
          "height": 545
        },
        "id": "liVoMHlAYhH_",
        "outputId": "8efcb300-6628-4fe9-90d6-fdfaf879faed"
      },
      "source": [
        "# Y también cuáles usuarios han rankeado la pelicula ID:37\n",
        "train_file[train_file['itemid'] == 1168]"
      ],
      "execution_count": 17,
      "outputs": [
        {
          "output_type": "execute_result",
          "data": {
            "text/html": [
              "<div>\n",
              "<style scoped>\n",
              "    .dataframe tbody tr th:only-of-type {\n",
              "        vertical-align: middle;\n",
              "    }\n",
              "\n",
              "    .dataframe tbody tr th {\n",
              "        vertical-align: top;\n",
              "    }\n",
              "\n",
              "    .dataframe thead th {\n",
              "        text-align: right;\n",
              "    }\n",
              "</style>\n",
              "<table border=\"1\" class=\"dataframe\">\n",
              "  <thead>\n",
              "    <tr style=\"text-align: right;\">\n",
              "      <th></th>\n",
              "      <th>userid</th>\n",
              "      <th>itemid</th>\n",
              "      <th>rating</th>\n",
              "      <th>timestamp</th>\n",
              "    </tr>\n",
              "  </thead>\n",
              "  <tbody>\n",
              "    <tr>\n",
              "      <th>6664</th>\n",
              "      <td>85</td>\n",
              "      <td>1168</td>\n",
              "      <td>3</td>\n",
              "      <td>882995908</td>\n",
              "    </tr>\n",
              "    <tr>\n",
              "      <th>9646</th>\n",
              "      <td>122</td>\n",
              "      <td>1168</td>\n",
              "      <td>4</td>\n",
              "      <td>879270902</td>\n",
              "    </tr>\n",
              "    <tr>\n",
              "      <th>20141</th>\n",
              "      <td>269</td>\n",
              "      <td>1168</td>\n",
              "      <td>2</td>\n",
              "      <td>891448386</td>\n",
              "    </tr>\n",
              "    <tr>\n",
              "      <th>21600</th>\n",
              "      <td>280</td>\n",
              "      <td>1168</td>\n",
              "      <td>5</td>\n",
              "      <td>891702544</td>\n",
              "    </tr>\n",
              "    <tr>\n",
              "      <th>29685</th>\n",
              "      <td>363</td>\n",
              "      <td>1168</td>\n",
              "      <td>2</td>\n",
              "      <td>891496587</td>\n",
              "    </tr>\n",
              "    <tr>\n",
              "      <th>30647</th>\n",
              "      <td>378</td>\n",
              "      <td>1168</td>\n",
              "      <td>3</td>\n",
              "      <td>880333383</td>\n",
              "    </tr>\n",
              "    <tr>\n",
              "      <th>30899</th>\n",
              "      <td>380</td>\n",
              "      <td>1168</td>\n",
              "      <td>3</td>\n",
              "      <td>885479833</td>\n",
              "    </tr>\n",
              "    <tr>\n",
              "      <th>31698</th>\n",
              "      <td>389</td>\n",
              "      <td>1168</td>\n",
              "      <td>3</td>\n",
              "      <td>880088717</td>\n",
              "    </tr>\n",
              "    <tr>\n",
              "      <th>32183</th>\n",
              "      <td>393</td>\n",
              "      <td>1168</td>\n",
              "      <td>3</td>\n",
              "      <td>889729346</td>\n",
              "    </tr>\n",
              "    <tr>\n",
              "      <th>34386</th>\n",
              "      <td>416</td>\n",
              "      <td>1168</td>\n",
              "      <td>4</td>\n",
              "      <td>886318953</td>\n",
              "    </tr>\n",
              "    <tr>\n",
              "      <th>37422</th>\n",
              "      <td>457</td>\n",
              "      <td>1168</td>\n",
              "      <td>5</td>\n",
              "      <td>882548761</td>\n",
              "    </tr>\n",
              "    <tr>\n",
              "      <th>41945</th>\n",
              "      <td>532</td>\n",
              "      <td>1168</td>\n",
              "      <td>4</td>\n",
              "      <td>888630436</td>\n",
              "    </tr>\n",
              "    <tr>\n",
              "      <th>52859</th>\n",
              "      <td>659</td>\n",
              "      <td>1168</td>\n",
              "      <td>4</td>\n",
              "      <td>891386641</td>\n",
              "    </tr>\n",
              "    <tr>\n",
              "      <th>56981</th>\n",
              "      <td>707</td>\n",
              "      <td>1168</td>\n",
              "      <td>3</td>\n",
              "      <td>886287990</td>\n",
              "    </tr>\n",
              "    <tr>\n",
              "      <th>57541</th>\n",
              "      <td>711</td>\n",
              "      <td>1168</td>\n",
              "      <td>4</td>\n",
              "      <td>879995753</td>\n",
              "    </tr>\n",
              "    <tr>\n",
              "      <th>69673</th>\n",
              "      <td>846</td>\n",
              "      <td>1168</td>\n",
              "      <td>4</td>\n",
              "      <td>883950569</td>\n",
              "    </tr>\n",
              "  </tbody>\n",
              "</table>\n",
              "</div>"
            ],
            "text/plain": [
              "       userid  itemid  rating  timestamp\n",
              "6664       85    1168       3  882995908\n",
              "9646      122    1168       4  879270902\n",
              "20141     269    1168       2  891448386\n",
              "21600     280    1168       5  891702544\n",
              "29685     363    1168       2  891496587\n",
              "30647     378    1168       3  880333383\n",
              "30899     380    1168       3  885479833\n",
              "31698     389    1168       3  880088717\n",
              "32183     393    1168       3  889729346\n",
              "34386     416    1168       4  886318953\n",
              "37422     457    1168       5  882548761\n",
              "41945     532    1168       4  888630436\n",
              "52859     659    1168       4  891386641\n",
              "56981     707    1168       3  886287990\n",
              "57541     711    1168       4  879995753\n",
              "69673     846    1168       4  883950569"
            ]
          },
          "metadata": {},
          "execution_count": 17
        }
      ]
    },
    {
      "cell_type": "markdown",
      "metadata": {
        "id": "u2P14hwFXytK"
      },
      "source": [
        "## Actividad 3 👓\n",
        "\n",
        "Haremos un pequeño experimento para entender mejor como funciona Slope One. Gracias al ejercicio anterior, sabemos que el usuario 457 ya ha asignado el mejor rating (5 ⭐) a las dos peliculas ID:9 e ID:1168. Comparemos.\n",
        "\n",
        "**Pregunta:** ¿Cómo se explican estos resultados?  \n",
        "\n",
        "**Respuesta:** Se explican ya que al momento de predecir se utilizan todas las peliculas que el usuario haya evaluado en conjunto a otros usuarios, por lo que si existen muchas peliculas o hay diferencias muy grandes con los otros usuarios si bien los valores predichos seran cercanos no seran necesariamente iguales. Ademas existen factores externos que pueden afectar el rating que el usuario dio a la pelicula."
      ]
    },
    {
      "cell_type": "code",
      "metadata": {
        "colab": {
          "base_uri": "https://localhost:8080/"
        },
        "id": "gaqUjAQaVseB",
        "outputId": "7dd8bea0-9ebe-439c-e85f-42bb748e70a5"
      },
      "source": [
        "prediction_id9 = mySlopeOne.predict(\"457\", \"9\")\n",
        "prediction_id1168 = mySlopeOne.predict(\"457\", \"1168\")\n",
        "\n",
        "print('Prediction for ID:9 :', prediction_id9)\n",
        "print('Prediction for ID:1168 :', prediction_id1168)"
      ],
      "execution_count": 18,
      "outputs": [
        {
          "output_type": "stream",
          "text": [
            "Prediction for ID:9 : 4.530702114105225\n",
            "Prediction for ID:1168 : 4.166153907775879\n"
          ],
          "name": "stdout"
        }
      ]
    },
    {
      "cell_type": "markdown",
      "metadata": {
        "id": "N8dIE2n_YYnV"
      },
      "source": [
        "## Paso 7:\n",
        "\n",
        "Generaremos ahora una lista ordenada de las top-N recomendaciones, dado un usuario.\n",
        "\n"
      ]
    },
    {
      "cell_type": "code",
      "metadata": {
        "colab": {
          "base_uri": "https://localhost:8080/"
        },
        "id": "CVcJ1I1nZaK1",
        "outputId": "78a7888b-1eda-46b5-fab8-0bc6557d7036"
      },
      "source": [
        "# Mediante el método recommend() genereremos una lista top-5 recomendaciones para el usuario ID:457\n",
        "reclist_slopeone = mySlopeOne.recommend(\"457\", 5)\n",
        "\n",
        "# Y visualizaremos el resultado\n",
        "print('Lista de items según ID:', reclist_slopeone)"
      ],
      "execution_count": 19,
      "outputs": [
        {
          "output_type": "stream",
          "text": [
            "Lista de items según ID: ['1592', '1589', '1656', '1431', '1653']\n"
          ],
          "name": "stdout"
        }
      ]
    },
    {
      "cell_type": "code",
      "metadata": {
        "colab": {
          "base_uri": "https://localhost:8080/"
        },
        "id": "BFdRZKQcZtHE",
        "outputId": "e4d4d93a-9410-4ce2-f32c-8cb3ffe9bc75"
      },
      "source": [
        "# Lo convertimos a numpy array\n",
        "recmovies_slopeone = np.array(reclist_slopeone).astype(int)\n",
        "\n",
        "# Utilizamos la estructura de datos de los items para encontrar los títulos recomendados\n",
        "print('Lista de items por nombre:')\n",
        "info_file.loc[recmovies_slopeone]['title']"
      ],
      "execution_count": 20,
      "outputs": [
        {
          "output_type": "stream",
          "text": [
            "Lista de items por nombre:\n"
          ],
          "name": "stdout"
        },
        {
          "output_type": "execute_result",
          "data": {
            "text/plain": [
              "movieid\n",
              "1592                               Magic Hour, The (1998)\n",
              "1589                                   Schizopolis (1996)\n",
              "1656                                   Little City (1998)\n",
              "1431                                  Legal Deceit (1997)\n",
              "1653    Entertaining Angels: The Dorothy Day Story (1996)\n",
              "Name: title, dtype: object"
            ]
          },
          "metadata": {},
          "execution_count": 20
        }
      ]
    },
    {
      "cell_type": "markdown",
      "metadata": {
        "id": "NlX6FLTxdPRm"
      },
      "source": [
        "## Actividad 4 👩🏻‍💻\n",
        "\n",
        "Genera una nueva recomendacion, modificando los hiperparametros de usuario y topN a tu elección.\n",
        "\n",
        "**Pregunta:** ¿Ves una diferencia en la recomendación entre el nuevo usuario y el usuario ID:457?\n",
        "\n",
        "**Respuesta:** Al recomendar 7 peliculas al usuario de id 85 las recomendaciones son completamente diferentes "
      ]
    },
    {
      "cell_type": "code",
      "metadata": {
        "colab": {
          "base_uri": "https://localhost:8080/"
        },
        "id": "YQM7mfwDdY3j",
        "outputId": "79b15a1f-17f3-42ca-8e09-4b099598a4cb"
      },
      "source": [
        "# Escribe el nuevo codigo aqui\n",
        "reclist_slopeone = mySlopeOne.recommend(\"85\", 7)\n",
        "print('Lista de items según ID:', reclist_slopeone)\n",
        "recmovies_slopeone = np.array(reclist_slopeone).astype(int)\n",
        "print('Lista de items por nombre:')\n",
        "info_file.loc[recmovies_slopeone]['title']\n"
      ],
      "execution_count": 28,
      "outputs": [
        {
          "output_type": "stream",
          "text": [
            "Lista de items según ID: ['1536', '1500', '44', '43', '41', '39', '814']\n",
            "Lista de items por nombre:\n"
          ],
          "name": "stdout"
        },
        {
          "output_type": "execute_result",
          "data": {
            "text/plain": [
              "movieid\n",
              "1536             Aiqing wansui (1994)\n",
              "1500        Santa with Muscles (1996)\n",
              "44           Dolores Claiborne (1994)\n",
              "43                  Disclosure (1994)\n",
              "41               Billy Madison (1995)\n",
              "39                Strange Days (1995)\n",
              "814     Great Day in Harlem, A (1994)\n",
              "Name: title, dtype: object"
            ]
          },
          "metadata": {},
          "execution_count": 28
        }
      ]
    },
    {
      "cell_type": "markdown",
      "metadata": {
        "id": "iU2NlezaiIur"
      },
      "source": [
        "## Actividad 5 👩🏻‍💻\n",
        "\n",
        "Dado el usuario ID:44, cree dos listas de películas recomendadas; la primera utilizando el algoritmo Most Popular y la segunda utilizando el algoritmo Slope One.\n",
        "\n",
        "**Pregunta:** Realice un analisis apreciativo de las similitudes y diferencias entre ambas recomendaciones.\n",
        "\n",
        "**Respuesta:** se puede ver claramente que son completamente diferentes, la primera tabla (Most popular) claramente tiene peliculas mas mainstream que la segunda por lo que el usuario 44 tiene gustos diferentes a lo popular, en cambio la tabla de slope one representa de forma mas real los gustos del usuario 44, ya que de las peliculas que no a visto las que mas le pueden interesar segun slope no son las mas populares entre los usuarios. otra diferencia importante son los generos de las peliculas ya que las mas populares suelen ser de accion o scifi, mientras que las recomendadas por slope suelen ser dramas o romance."
      ]
    },
    {
      "cell_type": "code",
      "metadata": {
        "colab": {
          "base_uri": "https://localhost:8080/"
        },
        "id": "Rxk9ySLQiMC4",
        "outputId": "c53c0488-d011-41a2-a7ed-86320bc42c2a"
      },
      "source": [
        "# Escribe el nuevo codigo aqui\n",
        "print('Most Popular')\n",
        "most_popular = pyreclab.MostPopular(dataset='u1.base',\n",
        "                   dlmchar=b'\\t',\n",
        "                   header=False,\n",
        "                   usercol=0,\n",
        "                   itemcol=1,\n",
        "                   ratingcol=2)  \n",
        "most_popular.train()\n",
        "ranking = [int(r) for r in most_popular.recommend(str(44), 15, includeRated=False)]\n",
        "rec = np.array(ranking).astype(int)\n",
        "print('Recommendation for user {}: {}'.format(44, ranking))\n",
        "print(info_file.loc[rec]['title'])\n",
        "print()\n",
        "print('Slope one')\n",
        "reclist_slopeone = mySlopeOne.recommend(\"44\", 15)\n",
        "print('Lista de items según ID:', reclist_slopeone)\n",
        "recmovies_slopeone = np.array(reclist_slopeone).astype(int)\n",
        "print('Lista de items por nombre:')\n",
        "info_file.loc[recmovies_slopeone]['title']\n"
      ],
      "execution_count": 37,
      "outputs": [
        {
          "output_type": "stream",
          "text": [
            "Most Popular\n",
            "Recommendation for user 44: [50, 100, 181, 286, 1, 121, 300, 127, 7, 98, 172, 56, 237, 117, 222]\n",
            "movieid\n",
            "50                     Star Wars (1977)\n",
            "100                        Fargo (1996)\n",
            "181           Return of the Jedi (1983)\n",
            "286         English Patient, The (1996)\n",
            "1                      Toy Story (1995)\n",
            "121       Independence Day (ID4) (1996)\n",
            "300                Air Force One (1997)\n",
            "127               Godfather, The (1972)\n",
            "7                 Twelve Monkeys (1995)\n",
            "98     Silence of the Lambs, The (1991)\n",
            "172     Empire Strikes Back, The (1980)\n",
            "56                  Pulp Fiction (1994)\n",
            "237                Jerry Maguire (1996)\n",
            "117                    Rock, The (1996)\n",
            "222     Star Trek: First Contact (1996)\n",
            "Name: title, dtype: object\n",
            "\n",
            "Slope one\n",
            "Lista de items según ID: ['1656', '1064', '1643', '1642', '1625', '1599', '1512', '1536', '1500', '1467', '1463', '1449', '1367', '1293', '868']\n",
            "Lista de items por nombre:\n"
          ],
          "name": "stdout"
        },
        {
          "output_type": "execute_result",
          "data": {
            "text/plain": [
              "movieid\n",
              "1656                        Little City (1998)\n",
              "1064                          Crossfire (1947)\n",
              "1643                         Angel Baby (1995)\n",
              "1642                  Some Mother's Son (1996)\n",
              "1625                         Nightwatch (1997)\n",
              "1599             Someone Else's America (1995)\n",
              "1512    World of Apu, The (Apur Sansar) (1959)\n",
              "1536                      Aiqing wansui (1994)\n",
              "1500                 Santa with Muscles (1996)\n",
              "1467      Saint of Fort Washington, The (1993)\n",
              "1463                          Boys, Les (1997)\n",
              "1449                    Pather Panchali (1955)\n",
              "1367                              Faust (1994)\n",
              "1293                           Star Kid (1997)\n",
              "868                    Hearts and Minds (1996)\n",
              "Name: title, dtype: object"
            ]
          },
          "metadata": {},
          "execution_count": 37
        }
      ]
    },
    {
      "cell_type": "code",
      "metadata": {
        "id": "Pv8RABQeyqAw"
      },
      "source": [
        ""
      ],
      "execution_count": null,
      "outputs": []
    }
  ]
}